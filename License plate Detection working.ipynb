{
 "cells": [
  {
   "cell_type": "code",
   "execution_count": 1,
   "id": "cdb7c96b",
   "metadata": {},
   "outputs": [
    {
     "name": "stdout",
     "output_type": "stream",
     "text": [
      "Requirement already satisfied: opencv-contrib-python in c:\\users\\avish\\appdata\\roaming\\python\\python311\\site-packages (4.7.0.72)\n",
      "Requirement already satisfied: numpy>=1.21.2 in c:\\users\\avish\\appdata\\local\\programs\\python\\python311\\lib\\site-packages (from opencv-contrib-python) (1.23.5)\n",
      "Note: you may need to restart the kernel to use updated packages.\n"
     ]
    },
    {
     "name": "stderr",
     "output_type": "stream",
     "text": [
      "WARNING: Ignoring invalid distribution ~illow (C:\\Users\\avish\\AppData\\Local\\Programs\\Python\\Python311\\Lib\\site-packages)\n",
      "WARNING: Ignoring invalid distribution ~illow (C:\\Users\\avish\\AppData\\Local\\Programs\\Python\\Python311\\Lib\\site-packages)\n",
      "WARNING: Ignoring invalid distribution ~illow (C:\\Users\\avish\\AppData\\Local\\Programs\\Python\\Python311\\Lib\\site-packages)\n",
      "\n",
      "[notice] A new release of pip is available: 25.0.1 -> 25.2\n",
      "[notice] To update, run: python.exe -m pip install --upgrade pip\n"
     ]
    }
   ],
   "source": [
    "pip install opencv-contrib-python"
   ]
  },
  {
   "cell_type": "code",
   "execution_count": 2,
   "id": "d59fd278",
   "metadata": {},
   "outputs": [
    {
     "name": "stdout",
     "output_type": "stream",
     "text": [
      "Requirement already satisfied: imutils in c:\\users\\avish\\appdata\\local\\programs\\python\\python311\\lib\\site-packages (0.5.4)\n",
      "Note: you may need to restart the kernel to use updated packages.\n"
     ]
    },
    {
     "name": "stderr",
     "output_type": "stream",
     "text": [
      "WARNING: Ignoring invalid distribution ~illow (C:\\Users\\avish\\AppData\\Local\\Programs\\Python\\Python311\\Lib\\site-packages)\n",
      "WARNING: Ignoring invalid distribution ~illow (C:\\Users\\avish\\AppData\\Local\\Programs\\Python\\Python311\\Lib\\site-packages)\n",
      "WARNING: Ignoring invalid distribution ~illow (C:\\Users\\avish\\AppData\\Local\\Programs\\Python\\Python311\\Lib\\site-packages)\n",
      "\n",
      "[notice] A new release of pip is available: 25.0.1 -> 25.2\n",
      "[notice] To update, run: python.exe -m pip install --upgrade pip\n"
     ]
    }
   ],
   "source": [
    "pip install imutils\n"
   ]
  },
  {
   "cell_type": "code",
   "execution_count": 3,
   "id": "335ffe83",
   "metadata": {},
   "outputs": [
    {
     "name": "stdout",
     "output_type": "stream",
     "text": [
      "Requirement already satisfied: pytesseract in c:\\users\\avish\\appdata\\local\\programs\\python\\python311\\lib\\site-packages (0.3.10)\n",
      "Requirement already satisfied: packaging>=21.3 in c:\\users\\avish\\appdata\\local\\programs\\python\\python311\\lib\\site-packages (from pytesseract) (21.3)\n",
      "Requirement already satisfied: Pillow>=8.0.0 in c:\\users\\avish\\appdata\\local\\programs\\python\\python311\\lib\\site-packages (from pytesseract) (11.1.0)\n",
      "Requirement already satisfied: pyparsing!=3.0.5,>=2.0.2 in c:\\users\\avish\\appdata\\local\\programs\\python\\python311\\lib\\site-packages (from packaging>=21.3->pytesseract) (3.0.9)\n",
      "Note: you may need to restart the kernel to use updated packages.\n"
     ]
    },
    {
     "name": "stderr",
     "output_type": "stream",
     "text": [
      "WARNING: Ignoring invalid distribution ~illow (C:\\Users\\avish\\AppData\\Local\\Programs\\Python\\Python311\\Lib\\site-packages)\n",
      "WARNING: Ignoring invalid distribution ~illow (C:\\Users\\avish\\AppData\\Local\\Programs\\Python\\Python311\\Lib\\site-packages)\n",
      "WARNING: Ignoring invalid distribution ~illow (C:\\Users\\avish\\AppData\\Local\\Programs\\Python\\Python311\\Lib\\site-packages)\n",
      "\n",
      "[notice] A new release of pip is available: 25.0.1 -> 25.2\n",
      "[notice] To update, run: python.exe -m pip install --upgrade pip\n"
     ]
    }
   ],
   "source": [
    "pip install pytesseract\n"
   ]
  },
  {
   "cell_type": "code",
   "execution_count": 4,
   "id": "aaad8ac3",
   "metadata": {},
   "outputs": [],
   "source": [
    "import cv2\n",
    "import imutils\n",
    "import pytesseract"
   ]
  },
  {
   "cell_type": "code",
   "execution_count": 5,
   "id": "92dcdec1",
   "metadata": {},
   "outputs": [],
   "source": [
    "pytesseract.pytesseract.tesseract_cmd = r\"C:/Users/avish/Desktop/Tesseract-OCR/Tesseract-OCR\""
   ]
  },
  {
   "cell_type": "code",
   "execution_count": 2,
   "id": "9c740e54",
   "metadata": {},
   "outputs": [],
   "source": [
    "import cv2\n",
    "import imutils\n",
    "import pytesseract\n",
    "import numpy as np\n",
    "from tkinter import Tk, Button, Label, filedialog\n",
    "from PIL import Image, ImageTk\n",
    "\n",
    "# ✅ Path to tesseract.exe (only for Windows)\n",
    "pytesseract.pytesseract.tesseract_cmd = r\"C:\\Program Files\\Tesseract-OCR\\tesseract.exe\"\n",
    "\n",
    "# Tkinter root\n",
    "root = Tk()\n",
    "root.title(\"License Plate Detection\")\n",
    "root.geometry(\"800x600\")\n",
    "\n",
    "# Label for images\n",
    "image_label = Label(root)\n",
    "image_label.pack()\n",
    "\n",
    "# Label for detected text\n",
    "result_label = Label(root, text=\"Detected Plate: \", font=(\"Arial\", 16))\n",
    "result_label.pack(pady=10)\n",
    "\n",
    "\n",
    "def upload_and_detect():\n",
    "    file_path = filedialog.askopenfilename(\n",
    "        title=\"Select a car image\",\n",
    "        filetypes=[(\"Image Files\", \"*.png;*.jpg;*.jpeg;*.bmp\")]\n",
    "    )\n",
    "    \n",
    "    if not file_path:\n",
    "        return\n",
    "    \n",
    "    # Load image\n",
    "    image = cv2.imread(file_path)\n",
    "    image = imutils.resize(image, width=500)\n",
    "    orig = image.copy()\n",
    "\n",
    "    # Convert to gray\n",
    "    gray = cv2.cvtColor(image, cv2.COLOR_BGR2GRAY)\n",
    "    gray = cv2.bilateralFilter(gray, 11, 17, 17)\n",
    "\n",
    "    # Edge detection\n",
    "    edged = cv2.Canny(gray, 30, 200)\n",
    "\n",
    "    # Find contours\n",
    "    cnts, _ = cv2.findContours(edged.copy(), cv2.RETR_LIST, cv2.CHAIN_APPROX_SIMPLE)\n",
    "    cnts = sorted(cnts, key=cv2.contourArea, reverse=True)[:30]\n",
    "\n",
    "    screenCnt = None\n",
    "    plate_text = \"Not detected\"\n",
    "\n",
    "    for c in cnts:\n",
    "        peri = cv2.arcLength(c, True)\n",
    "        approx = cv2.approxPolyDP(c, 0.018 * peri, True)\n",
    "\n",
    "        if len(approx) == 4:  # Likely license plate\n",
    "            screenCnt = approx\n",
    "            x, y, w, h = cv2.boundingRect(c)\n",
    "            new_img = image[y:y+h, x:x+w]\n",
    "\n",
    "            # OCR\n",
    "            plate_text = pytesseract.image_to_string(new_img, lang='eng')\n",
    "            cv2.drawContours(image, [screenCnt], -1, (0, 255, 0), 3)\n",
    "            break\n",
    "\n",
    "    # Convert image (with contour) to Tkinter format\n",
    "    image_rgb = cv2.cvtColor(image, cv2.COLOR_BGR2RGB)\n",
    "    img_pil = Image.fromarray(image_rgb)\n",
    "    img_tk = ImageTk.PhotoImage(img_pil)\n",
    "\n",
    "    # Show in Tkinter window\n",
    "    image_label.configure(image=img_tk)\n",
    "    image_label.image = img_tk\n",
    "\n",
    "    # Show OCR result\n",
    "    result_label.config(text=f\"Detected Plate: {plate_text.strip()}\")\n",
    "\n",
    "\n",
    "# Upload Button\n",
    "btn = Button(root, text=\"Upload Image & Detect\", command=upload_and_detect, font=(\"Arial\", 14))\n",
    "btn.pack(pady=20)\n",
    "\n",
    "root.mainloop()\n"
   ]
  },
  {
   "cell_type": "code",
   "execution_count": null,
   "id": "fb2bf9d3",
   "metadata": {},
   "outputs": [],
   "source": []
  }
 ],
 "metadata": {
  "kernelspec": {
   "display_name": "Python 3 (ipykernel)",
   "language": "python",
   "name": "python3"
  },
  "language_info": {
   "codemirror_mode": {
    "name": "ipython",
    "version": 3
   },
   "file_extension": ".py",
   "mimetype": "text/x-python",
   "name": "python",
   "nbconvert_exporter": "python",
   "pygments_lexer": "ipython3",
   "version": "3.11.0"
  }
 },
 "nbformat": 4,
 "nbformat_minor": 5
}
